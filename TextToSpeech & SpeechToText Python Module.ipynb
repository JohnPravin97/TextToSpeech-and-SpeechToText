{
 "cells": [
  {
   "cell_type": "markdown",
   "metadata": {
    "toc": true
   },
   "source": [
    "<h1>Text to Speech and Speech to Text<span class=\"tocSkip\"></span></h1>\n",
    "<div class=\"toc\"><ul class=\"toc-item\"></ul></div>"
   ]
  },
  {
   "cell_type": "code",
   "execution_count": 1,
   "metadata": {
    "ExecuteTime": {
     "end_time": "2020-07-24T06:33:23.092637Z",
     "start_time": "2020-07-24T06:33:22.924463Z"
    }
   },
   "outputs": [],
   "source": [
    "import speech_recognition as sr\n",
    "import pyttsx3 as tts\n",
    "import pyaudio as aud"
   ]
  },
  {
   "cell_type": "code",
   "execution_count": 2,
   "metadata": {
    "ExecuteTime": {
     "end_time": "2020-07-24T06:33:23.556652Z",
     "start_time": "2020-07-24T06:33:23.092637Z"
    }
   },
   "outputs": [],
   "source": [
    "r=sr.Recognizer()\n",
    "mic=sr.Microphone()"
   ]
  },
  {
   "cell_type": "code",
   "execution_count": 3,
   "metadata": {
    "ExecuteTime": {
     "end_time": "2020-07-24T06:33:35.206089Z",
     "start_time": "2020-07-24T06:33:23.563582Z"
    }
   },
   "outputs": [
    {
     "name": "stdout",
     "output_type": "stream",
     "text": [
      "I am gonna speech 'my name is John praveen' and it is gonna convert the speech to text and print \n",
      "\n"
     ]
    },
    {
     "data": {
      "text/plain": [
       "'my name is John Pravin'"
      ]
     },
     "execution_count": 3,
     "metadata": {},
     "output_type": "execute_result"
    }
   ],
   "source": [
    "# Text to speech takes in the text and reads out loud\n",
    "def TextToSpeech(text):\n",
    "    engine =tts.init()\n",
    "    engine.say(text) \n",
    "    # run and wait method, it processes the voice commands. \n",
    "    engine.runAndWait()\n",
    "\n",
    "# Speech to text function take speech from user and convert them to text with the help of google recongnizer.\n",
    "def SpeechToText():\n",
    "    with mic as source:\n",
    "        r.adjust_for_ambient_noise(source)\n",
    "        audio = r.listen(source)\n",
    "        text=r.recognize_google(audio)\n",
    "        TextToSpeech(text)\n",
    "    return text\n",
    "print('I am gonna speech \\'my name is John praveen\\' and it is gonna convert the speech to text and print \\n')\n",
    "SpeechToText()\n"
   ]
  },
  {
   "cell_type": "code",
   "execution_count": 4,
   "metadata": {
    "ExecuteTime": {
     "end_time": "2020-07-24T06:33:38.487763Z",
     "start_time": "2020-07-24T06:33:35.213458Z"
    }
   },
   "outputs": [],
   "source": [
    "# These are the properties of pyttsx3 module. You can play with it as per your requirement\n",
    "engine =tts.init()\n",
    "o1=engine.getProperty('voices')\n",
    "o2=engine.getProperty('rate')\n",
    "o2=engine.getProperty('volume')\n",
    "engine.setProperty('voice', o1[1].id) #o1[1] is female voice, o1[0] is male voice\n",
    "engine.setProperty('rate', 100) #default rate is 200Words per minute\n",
    "engine.setProperty('volume', 1) #volume from 0-1, default is 1\n",
    "engine.say('hello world') \n",
    "engine.runAndWait()"
   ]
  }
 ],
 "metadata": {
  "kernelspec": {
   "display_name": "Python 3",
   "language": "python",
   "name": "python3"
  },
  "language_info": {
   "codemirror_mode": {
    "name": "ipython",
    "version": 3
   },
   "file_extension": ".py",
   "mimetype": "text/x-python",
   "name": "python",
   "nbconvert_exporter": "python",
   "pygments_lexer": "ipython3",
   "version": "3.7.6"
  },
  "toc": {
   "base_numbering": 1,
   "nav_menu": {},
   "number_sections": true,
   "sideBar": true,
   "skip_h1_title": false,
   "title_cell": "Text to Speech and Speech to Text",
   "title_sidebar": "Contents",
   "toc_cell": true,
   "toc_position": {},
   "toc_section_display": true,
   "toc_window_display": false
  }
 },
 "nbformat": 4,
 "nbformat_minor": 4
}
